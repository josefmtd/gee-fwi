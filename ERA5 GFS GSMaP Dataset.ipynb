{
 "cells": [
  {
   "cell_type": "code",
   "execution_count": 1,
   "id": "4c50149d",
   "metadata": {},
   "outputs": [],
   "source": [
    "import pandas\n",
    "import geemap\n",
    "\n",
    "import ee\n",
    "import eemont\n",
    "import eefolium\n",
    "\n",
    "import math\n",
    "import FWIInputs\n",
    "from datetime import datetime, date, timedelta"
   ]
  },
  {
   "cell_type": "code",
   "execution_count": 2,
   "id": "49d8902a",
   "metadata": {},
   "outputs": [],
   "source": [
    "def visualize_image(image, visParams, label):\n",
    "    Map = geemap.Map(center = (-3.28, 104.15), zoom = 8)\n",
    "    add_image(Map, image, visParams, label)\n",
    "    return Map\n",
    "\n",
    "def add_image(Map, image, visParams, label):\n",
    "    Map.addLayer(image, visParams, label)\n",
    "    \n",
    "temp_vis_params = {\n",
    "    'min' : 0,\n",
    "    'max' : 40,\n",
    "}\n",
    "\n",
    "rhum_vis_params = {\n",
    "    'min' : 0, \n",
    "    'max' : 100\n",
    "}\n",
    "\n",
    "wind_vis_params = {\n",
    "    'min' : 0, \n",
    "    'max' : 20,\n",
    "}\n",
    "\n",
    "rain_vis_params = {\n",
    "    'min' : 0,\n",
    "    'max' : 300,\n",
    "}"
   ]
  },
  {
   "cell_type": "code",
   "execution_count": 3,
   "id": "38fda497",
   "metadata": {},
   "outputs": [],
   "source": [
    "ee.Initialize()"
   ]
  },
  {
   "cell_type": "code",
   "execution_count": 4,
   "id": "904b6134",
   "metadata": {},
   "outputs": [],
   "source": [
    "province = ee.FeatureCollection('FAO/GAUL/2015/level1') \\\n",
    "                .filter(ee.Filter.eq('ADM1_NAME', 'Sumatera Selatan'))\n",
    "\n",
    "bounds = ee.Geometry(province.getInfo()['features'][0]['geometry'])"
   ]
  },
  {
   "cell_type": "code",
   "execution_count": 5,
   "id": "40427dfc",
   "metadata": {},
   "outputs": [],
   "source": [
    "start = datetime(year = 2018, month = 8, day = 1, hour = 5)\n",
    "start_local = start + timedelta(hours = 7)"
   ]
  },
  {
   "cell_type": "code",
   "execution_count": 6,
   "id": "0ee2c638",
   "metadata": {},
   "outputs": [],
   "source": [
    "era5 = FWIInputs.FWI_ERA5(start, bounds, use_gsmap = False)"
   ]
  },
  {
   "cell_type": "code",
   "execution_count": null,
   "id": "2b55489f",
   "metadata": {
    "scrolled": true
   },
   "outputs": [],
   "source": [
    "temp_map = visualize_image(era5.temp, temp_vis_params, 'ERA5_T at Noon')\n",
    "rhum_map = visualize_image(era5.rhum, rhum_vis_params, 'ERA5_RH at Noon')\n",
    "wind_map = visualize_image(era5.wind, wind_vis_params, 'ERA5_W at Noon')\n",
    "rain_map = visualize_image(era5.rain, rain_vis_params, 'ERA5_R24H at Noon')"
   ]
  },
  {
   "cell_type": "code",
   "execution_count": null,
   "id": "52a46d15",
   "metadata": {},
   "outputs": [],
   "source": [
    "era5_gsmap = FWIInputs.FWI_ERA5(start, bounds, use_gsmap = True)"
   ]
  },
  {
   "cell_type": "code",
   "execution_count": null,
   "id": "878d74d9",
   "metadata": {},
   "outputs": [],
   "source": [
    "add_image(rain_map, era5_gsmap.rain, rain_vis_params, 'GSMaP_R24H at Noon')"
   ]
  },
  {
   "cell_type": "code",
   "execution_count": null,
   "id": "afbbdb7c",
   "metadata": {},
   "outputs": [],
   "source": [
    "gfs = FWIInputs.FWI_GFS(start_local, bounds, use_gsmap = False)"
   ]
  },
  {
   "cell_type": "code",
   "execution_count": null,
   "id": "c18d1724",
   "metadata": {
    "scrolled": false
   },
   "outputs": [],
   "source": [
    "add_image(temp_map, gfs.temp, temp_vis_params, 'GFS_T at Noon')\n",
    "add_image(rhum_map, gfs.rhum, rhum_vis_params, 'GFS_RH at Noon')\n",
    "add_image(wind_map, gfs.wind, wind_vis_params, 'GFS_W at Noon')\n",
    "add_image(rain_map, gfs.rain, rain_vis_params, 'GFS_R24H at Noon')"
   ]
  },
  {
   "cell_type": "code",
   "execution_count": null,
   "id": "18e43f48",
   "metadata": {},
   "outputs": [],
   "source": [
    "temp_map"
   ]
  },
  {
   "cell_type": "code",
   "execution_count": null,
   "id": "5045e8bd",
   "metadata": {},
   "outputs": [],
   "source": [
    "rhum_map"
   ]
  },
  {
   "cell_type": "code",
   "execution_count": null,
   "id": "d1af9573",
   "metadata": {},
   "outputs": [],
   "source": [
    "wind_map"
   ]
  },
  {
   "cell_type": "code",
   "execution_count": null,
   "id": "c2570fc7",
   "metadata": {},
   "outputs": [],
   "source": [
    "rain_map"
   ]
  }
 ],
 "metadata": {
  "kernelspec": {
   "display_name": "Python 3",
   "language": "python",
   "name": "python3"
  },
  "language_info": {
   "codemirror_mode": {
    "name": "ipython",
    "version": 3
   },
   "file_extension": ".py",
   "mimetype": "text/x-python",
   "name": "python",
   "nbconvert_exporter": "python",
   "pygments_lexer": "ipython3",
   "version": "3.9.4"
  }
 },
 "nbformat": 4,
 "nbformat_minor": 5
}
