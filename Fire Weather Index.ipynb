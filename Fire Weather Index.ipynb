{
 "cells": [
  {
   "cell_type": "code",
   "execution_count": 1,
   "id": "fa1bcbbf",
   "metadata": {},
   "outputs": [],
   "source": [
    "import ee\n",
    "import geemap\n",
    "import eemont\n",
    "\n",
    "import FWI\n",
    "import math\n",
    "from datetime import datetime, timedelta, date"
   ]
  },
  {
   "cell_type": "code",
   "execution_count": 2,
   "id": "d2e2832d",
   "metadata": {},
   "outputs": [],
   "source": [
    "ee.Initialize()"
   ]
  },
  {
   "cell_type": "code",
   "execution_count": 3,
   "id": "d4652c9c",
   "metadata": {},
   "outputs": [],
   "source": [
    "def visualize_image(image, visParams, label):\n",
    "    Map = geemap.Map(center = (-3.28, 104.15), zoom = 8)\n",
    "    add_image(Map, image, visParams, label)\n",
    "    return Map\n",
    "\n",
    "def add_image(Map, image, visParams, label):\n",
    "    Map.addLayer(image, visParams, label)\n",
    "    \n",
    "ffmc_vis_params = {\n",
    "    'min' : 0,\n",
    "    'max' : 101\n",
    "}\n",
    "\n",
    "dmc_vis_params = {\n",
    "    'min' : 0, \n",
    "    'max' : 200,\n",
    "}\n",
    "\n",
    "dc_vis_params = {\n",
    "    'min' : 0, \n",
    "    'max' : 2000,\n",
    "}\n",
    "\n",
    "bui_vis_params = {\n",
    "    'min' : 0,\n",
    "    'max' : 10\n",
    "}\n",
    "\n",
    "isi_vis_params = {\n",
    "    'min' : 0,\n",
    "    'max' : 10\n",
    "}\n",
    "\n",
    "fwi_vis_params = {\n",
    "    'min' : 0,\n",
    "    'max' : 5,\n",
    "    'palette' : ['green', 'yellow', 'red']\n",
    "}"
   ]
  },
  {
   "cell_type": "code",
   "execution_count": 4,
   "id": "6a859c25",
   "metadata": {},
   "outputs": [],
   "source": [
    "province = ee.FeatureCollection('FAO/GAUL/2015/level1') \\\n",
    "                .filter(ee.Filter.eq('ADM1_NAME', 'Sumatera Selatan'))\n",
    "\n",
    "bounds = ee.Geometry(province.getInfo()['features'][0]['geometry'])\n",
    "start = datetime(year = 2015, month = 1, day = 1, hour = 5)"
   ]
  },
  {
   "cell_type": "code",
   "execution_count": 5,
   "id": "1b8f2ba4",
   "metadata": {},
   "outputs": [],
   "source": [
    "inputs = FWI.FWI_ERA5_inputs(start, bounds)"
   ]
  },
  {
   "cell_type": "code",
   "execution_count": 6,
   "id": "c819bc7a",
   "metadata": {
    "scrolled": true
   },
   "outputs": [],
   "source": [
    "calculator = FWI.FWICalculator(start, inputs.temp, inputs.rhum, \n",
    "                               inputs.wind, inputs.rain)"
   ]
  },
  {
   "cell_type": "code",
   "execution_count": 7,
   "id": "fb386b23",
   "metadata": {},
   "outputs": [],
   "source": [
    "calculator.set_boundary(bounds)\n",
    "calculator.set_initial_ffmc(85)\n",
    "calculator.set_initial_dmc(6)\n",
    "calculator.set_initial_dc(15)"
   ]
  },
  {
   "cell_type": "code",
   "execution_count": 8,
   "id": "0dc2142d",
   "metadata": {},
   "outputs": [],
   "source": [
    "# ffmc = calculator.get_fine_fuel_moisture_code()\n",
    "# Map0 = visualize_image(ffmc, ffmc_vis_params, 'Fine Fuel Moisture Code')\n",
    "# Map0"
   ]
  },
  {
   "cell_type": "code",
   "execution_count": 9,
   "id": "f551202b",
   "metadata": {},
   "outputs": [
    {
     "data": {
      "application/vnd.jupyter.widget-view+json": {
       "model_id": "1bf3b89668eb442e8521e462935b6f8e",
       "version_major": 2,
       "version_minor": 0
      },
      "text/plain": [
       "Map(center=[-3.28, 104.15], controls=(WidgetControl(options=['position', 'transparent_bg'], widget=HBox(childr…"
      ]
     },
     "metadata": {},
     "output_type": "display_data"
    }
   ],
   "source": [
    "dmc = calculator.get_duff_moisture_code()\n",
    "Map1 = visualize_image(dmc, dmc_vis_params, 'Duff Moisture Code')\n",
    "Map1"
   ]
  },
  {
   "cell_type": "code",
   "execution_count": 10,
   "id": "7876784b",
   "metadata": {},
   "outputs": [],
   "source": [
    "# dc = calculator.get_drought_code()\n",
    "# Map2 = visualize_image(dc, dc_vis_params, 'Drought Code')\n",
    "# Map2"
   ]
  },
  {
   "cell_type": "code",
   "execution_count": 11,
   "id": "ce3ade60",
   "metadata": {},
   "outputs": [],
   "source": [
    "# bui = calculator.get_buildup_index()\n",
    "# Map3 = visualize_image(bui, bui_vis_params, 'Buildup Index')\n",
    "# Map3"
   ]
  },
  {
   "cell_type": "code",
   "execution_count": 12,
   "id": "d39be0de",
   "metadata": {},
   "outputs": [],
   "source": [
    "# isi = calculator.get_initial_spread_index()\n",
    "# Map4 = visualize_image(isi, isi_vis_params, 'Initial Spread Index')\n",
    "# Map4"
   ]
  },
  {
   "cell_type": "code",
   "execution_count": 13,
   "id": "22ef62b7",
   "metadata": {},
   "outputs": [
    {
     "data": {
      "application/vnd.jupyter.widget-view+json": {
       "model_id": "3d82b582ffaa4348b27e98357e4ad96a",
       "version_major": 2,
       "version_minor": 0
      },
      "text/plain": [
       "Map(center=[-3.28, 104.15], controls=(WidgetControl(options=['position', 'transparent_bg'], widget=HBox(childr…"
      ]
     },
     "metadata": {},
     "output_type": "display_data"
    }
   ],
   "source": [
    "fwi = calculator.get_fire_weather_index()\n",
    "Map5 = visualize_image(fwi, fwi_vis_params, 'Fire Weather Index')\n",
    "Map5"
   ]
  },
  {
   "cell_type": "code",
   "execution_count": 14,
   "id": "45953482",
   "metadata": {},
   "outputs": [],
   "source": [
    "tomorrow = start + timedelta(days = 1)\n",
    "inputs.update_fwi_inputs(tomorrow)"
   ]
  },
  {
   "cell_type": "code",
   "execution_count": 15,
   "id": "1189c8f5",
   "metadata": {},
   "outputs": [],
   "source": [
    "calculator.update_daily_parameters(tomorrow, inputs.temp, inputs.rhum, \n",
    "                                   inputs.wind, inputs.rain)"
   ]
  },
  {
   "cell_type": "code",
   "execution_count": 16,
   "id": "f42b7645",
   "metadata": {},
   "outputs": [],
   "source": [
    "# ffmc = calculator.get_fine_fuel_moisture_code()\n",
    "# Map6 = visualize_image(ffmc, ffmc_vis_params, 'Fine Fuel Moisture Code + 1')\n",
    "# Map6"
   ]
  },
  {
   "cell_type": "code",
   "execution_count": 17,
   "id": "5e75384b",
   "metadata": {},
   "outputs": [
    {
     "data": {
      "application/vnd.jupyter.widget-view+json": {
       "model_id": "7a86a3c7e3cb4669be5f7fcb34dd562f",
       "version_major": 2,
       "version_minor": 0
      },
      "text/plain": [
       "Map(center=[-3.28, 104.15], controls=(WidgetControl(options=['position', 'transparent_bg'], widget=HBox(childr…"
      ]
     },
     "metadata": {},
     "output_type": "display_data"
    }
   ],
   "source": [
    "dmc = calculator.get_duff_moisture_code()\n",
    "Map7 = visualize_image(dmc, dmc_vis_params, 'Duff Moisture Code + 1')\n",
    "Map7"
   ]
  },
  {
   "cell_type": "code",
   "execution_count": 20,
   "id": "47281255",
   "metadata": {},
   "outputs": [],
   "source": [
    "# dc = calculator.get_drought_code()\n",
    "# Map8 = visualize_image(dc, dc_vis_params, 'Drought Code + 1')\n",
    "# Map8"
   ]
  },
  {
   "cell_type": "code",
   "execution_count": 21,
   "id": "490e5ba8",
   "metadata": {},
   "outputs": [],
   "source": [
    "# bui = calculator.get_buildup_index()\n",
    "# Map9 = visualize_image(bui, bui_vis_params, 'Buildup Index + 1')\n",
    "# Map9"
   ]
  },
  {
   "cell_type": "code",
   "execution_count": 22,
   "id": "78c4392a",
   "metadata": {},
   "outputs": [],
   "source": [
    "# isi = calculator.get_initial_spread_index()\n",
    "# Map10 = visualize_image(isi, isi_vis_params, 'Initial Spread Index + 1')\n",
    "# Map10"
   ]
  },
  {
   "cell_type": "code",
   "execution_count": 19,
   "id": "c06ece53",
   "metadata": {},
   "outputs": [
    {
     "data": {
      "application/vnd.jupyter.widget-view+json": {
       "model_id": "8ded033a892c48b7ac76ab1b98d49f8e",
       "version_major": 2,
       "version_minor": 0
      },
      "text/plain": [
       "Map(center=[-3.28, 104.15], controls=(WidgetControl(options=['position', 'transparent_bg'], widget=HBox(childr…"
      ]
     },
     "metadata": {},
     "output_type": "display_data"
    }
   ],
   "source": [
    "fwi = calculator.get_fire_weather_index()\n",
    "Map11 = visualize_image(fwi, fwi_vis_params, 'Fire Weather Index + 1')\n",
    "Map11"
   ]
  },
  {
   "cell_type": "code",
   "execution_count": null,
   "id": "4898649f",
   "metadata": {},
   "outputs": [],
   "source": []
  }
 ],
 "metadata": {
  "kernelspec": {
   "display_name": "Python 3",
   "language": "python",
   "name": "python3"
  },
  "language_info": {
   "codemirror_mode": {
    "name": "ipython",
    "version": 3
   },
   "file_extension": ".py",
   "mimetype": "text/x-python",
   "name": "python",
   "nbconvert_exporter": "python",
   "pygments_lexer": "ipython3",
   "version": "3.9.4"
  }
 },
 "nbformat": 4,
 "nbformat_minor": 5
}
