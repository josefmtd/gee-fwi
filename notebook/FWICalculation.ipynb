{
 "cells": [
  {
   "cell_type": "code",
   "execution_count": null,
   "source": [
    "from gee_fwi.FWI import FWICalculator\r\n",
    "from gee_fwi.FWIInputs import FWI_GFS_GSMAP"
   ],
   "outputs": [],
   "metadata": {}
  },
  {
   "cell_type": "code",
   "execution_count": null,
   "source": [
    "import ee\r\n",
    "import eemont\r\n",
    "import ipyleaflet\r\n",
    "import datetime\r\n",
    "\r\n",
    "ee.Initialize()"
   ],
   "outputs": [],
   "metadata": {}
  },
  {
   "cell_type": "code",
   "execution_count": null,
   "source": [
    "obs = datetime.date.today() - datetime.timedelta(days=1)\r\n",
    "timezone = 'Asia/Jakarta'\r\n",
    "bounds = ee.Geometry.BBox(90, -15.0, 150.0, 15.0)"
   ],
   "outputs": [],
   "metadata": {}
  },
  {
   "cell_type": "code",
   "execution_count": null,
   "source": [
    "inputs = FWI_GFS_GSMAP(obs, timezone, bounds)\r\n",
    "calculator = FWICalculator(obs, inputs)\r\n",
    "calculator.set_previous_codes()\r\n",
    "fwi = calculator.compute()"
   ],
   "outputs": [],
   "metadata": {}
  },
  {
   "cell_type": "code",
   "execution_count": null,
   "source": [
    "vis_params = {\r\n",
    "    'min' : 0,\r\n",
    "    'max' : 13,\r\n",
    "    'palette' : ['blue', 'green', 'yellow', 'red']\r\n",
    "}\r\n",
    "\r\n",
    "indonesia = ee.FeatureCollection('FAO/GAUL/2015/level0') \\\r\n",
    "    .filter(ee.Filter.eq('ADM0_NAME', 'Indonesia'))\r\n",
    "fwi_map_id = fwi.clip(indonesia).getMapId(vis_params)\r\n",
    "fwi_layer = ipyleaflet.TileLayer(\r\n",
    "    url=fwi_map_id['tile_fetcher'].url_format\r\n",
    ")\r\n",
    "\r\n",
    "Map = ipyleaflet.Map(center=(0, 120), zoom=5)\r\n",
    "Map.add_layer(fwi_layer)\r\n",
    "Map"
   ],
   "outputs": [],
   "metadata": {}
  }
 ],
 "metadata": {
  "kernelspec": {
   "name": "python3",
   "display_name": "Python 3.9.6 64-bit ('notebook': conda)"
  },
  "language_info": {
   "codemirror_mode": {
    "name": "ipython",
    "version": 3
   },
   "file_extension": ".py",
   "mimetype": "text/x-python",
   "name": "python",
   "nbconvert_exporter": "python",
   "pygments_lexer": "ipython3",
   "version": "3.9.6"
  },
  "interpreter": {
   "hash": "456e0795d6f3aab2473551b267d04c9b6c216f0918c2556a05f5f3b39cb316d5"
  }
 },
 "nbformat": 4,
 "nbformat_minor": 5
}